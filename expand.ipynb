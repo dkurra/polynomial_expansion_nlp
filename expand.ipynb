{
 "cells": [
  {
   "cell_type": "code",
   "execution_count": 2,
   "metadata": {},
   "outputs": [],
   "source": [
    "import numpy as np\n",
    "\n",
    "import random\n",
    "from tqdm import tqdm\n",
    "\n",
    "import matplotlib.pyplot as plt\n",
    "\n",
    "\n",
    "import json\n",
    "import pickle\n",
    "import os\n",
    "\n",
    "\n",
    "from sklearn.model_selection import train_test_split\n",
    "from tensorflow import keras\n",
    "import tensorflow as tf\n",
    "import tensorflow_addons as tfa\n",
    "import matplotlib.pyplot as plt"
   ]
  },
  {
   "cell_type": "code",
   "execution_count": 3,
   "metadata": {},
   "outputs": [
    {
     "data": {
      "text/plain": [
       "'2.3.1'"
      ]
     },
     "execution_count": 3,
     "metadata": {},
     "output_type": "execute_result"
    }
   ],
   "source": [
    "tf.__version__"
   ]
  },
  {
   "cell_type": "code",
   "execution_count": 4,
   "metadata": {},
   "outputs": [],
   "source": [
    "def load_file(file_path: str):\n",
    "    \"\"\" A helper functions that loads the file into a list\n",
    "\n",
    "    :param file_path: path to the data file\n",
    "    :return parse data into a list\n",
    "    \"\"\"\n",
    "    data = open(file_path, \"r\").readlines()\n",
    "    return [line.rstrip() for line in data]"
   ]
  },
  {
   "cell_type": "code",
   "execution_count": 5,
   "metadata": {},
   "outputs": [],
   "source": [
    "def parse_equations(equations):\n",
    "    \"\"\" A helper functions that parse equations list into a list of tuples.\n",
    "        each tuple contains lhs and rhs of the equation\n",
    "\n",
    "    :param ARRAY of equations\n",
    "    :return factors: (LHS) inputs to the model\n",
    "            expansions: (RHS) group truth\n",
    "    \"\"\"\n",
    "    factors, expansions = zip(*[line.strip().split(\"=\") for line in equations])\n",
    "    return factors, expansions"
   ]
  },
  {
   "cell_type": "markdown",
   "metadata": {},
   "source": [
    "Load the train set and parse each line. For each line, separate LHS and RHS of the equation"
   ]
  },
  {
   "cell_type": "code",
   "execution_count": 6,
   "metadata": {},
   "outputs": [],
   "source": [
    "equations = load_file('train.txt')\n",
    "np.random.shuffle(equations)\n",
    "lhses, rhses = parse_equations(equations)"
   ]
  },
  {
   "cell_type": "markdown",
   "metadata": {},
   "source": [
    "Using keras Tokenizer, covert the equations to token at character level"
   ]
  },
  {
   "cell_type": "code",
   "execution_count": 7,
   "metadata": {},
   "outputs": [],
   "source": [
    "tokenizer = keras.preprocessing.text.Tokenizer(char_level=True)\n",
    "tokenizer.fit_on_texts(equations + ['abcdefghijklmnopqrstuvwxyzABCDEFGHIJKLMNOPQRSTUVWXYZ0123456789+-*)('])"
   ]
  },
  {
   "cell_type": "markdown",
   "metadata": {},
   "source": [
    "eg: equation \"4*a**2+67*a-399\" is converted to token [9, 1, 21, 1, 1, 3, 7, 11, 14, 1, 21, 2, 10, 19, 19]"
   ]
  },
  {
   "cell_type": "code",
   "execution_count": 8,
   "metadata": {},
   "outputs": [
    {
     "data": {
      "text/plain": [
       "[[9, 1, 21, 1, 1, 3, 7, 11, 14, 1, 21, 2, 10, 19, 19]]"
      ]
     },
     "execution_count": 8,
     "metadata": {},
     "output_type": "execute_result"
    }
   ],
   "source": [
    "tokenizer.texts_to_sequences(['4*a**2+67*a-399'])"
   ]
  },
  {
   "cell_type": "code",
   "execution_count": 9,
   "metadata": {},
   "outputs": [
    {
     "data": {
      "text/plain": [
       "['4 * a * * 2 + 6 7 * a - 3 9 9']"
      ]
     },
     "execution_count": 9,
     "metadata": {},
     "output_type": "execute_result"
    }
   ],
   "source": [
    "tokenizer.sequences_to_texts([[9, 1, 21, 1, 1, 3, 7, 11, 14, 1, 21, 2, 10, 19, 19]])"
   ]
  },
  {
   "cell_type": "code",
   "execution_count": 10,
   "metadata": {},
   "outputs": [],
   "source": [
    "dataset_size = tokenizer.document_count"
   ]
  },
  {
   "cell_type": "code",
   "execution_count": 11,
   "metadata": {},
   "outputs": [
    {
     "data": {
      "text/plain": [
       "'total number of equations in the dataset 1000001'"
      ]
     },
     "execution_count": 11,
     "metadata": {},
     "output_type": "execute_result"
    }
   ],
   "source": [
    "\"total number of equations in the dataset {}\".format(dataset_size)"
   ]
  },
  {
   "cell_type": "markdown",
   "metadata": {},
   "source": [
    "Save the tokenizer to file to use later during inferencing"
   ]
  },
  {
   "cell_type": "code",
   "execution_count": 12,
   "metadata": {},
   "outputs": [],
   "source": [
    "with open('saved_model/tokenizer.pickle', 'wb') as handle:\n",
    "    pickle.dump(tokenizer, handle, protocol=pickle.HIGHEST_PROTOCOL)"
   ]
  },
  {
   "cell_type": "markdown",
   "metadata": {},
   "source": [
    " character to token map"
   ]
  },
  {
   "cell_type": "code",
   "execution_count": 13,
   "metadata": {},
   "outputs": [
    {
     "data": {
      "text/plain": [
       "{'*': 1,\n",
       " '-': 2,\n",
       " '2': 3,\n",
       " '(': 4,\n",
       " ')': 5,\n",
       " '1': 6,\n",
       " '+': 7,\n",
       " '=': 8,\n",
       " '4': 9,\n",
       " '3': 10,\n",
       " '6': 11,\n",
       " '5': 12,\n",
       " '8': 13,\n",
       " '7': 14,\n",
       " '0': 15,\n",
       " 's': 16,\n",
       " 'n': 17,\n",
       " 'i': 18,\n",
       " '9': 19,\n",
       " 't': 20,\n",
       " 'a': 21,\n",
       " 'c': 22,\n",
       " 'o': 23,\n",
       " 'y': 24,\n",
       " 'z': 25,\n",
       " 'k': 26,\n",
       " 'h': 27,\n",
       " 'j': 28,\n",
       " 'x': 29,\n",
       " 'b': 30,\n",
       " 'd': 31,\n",
       " 'e': 32,\n",
       " 'f': 33,\n",
       " 'g': 34,\n",
       " 'l': 35,\n",
       " 'm': 36,\n",
       " 'p': 37,\n",
       " 'q': 38,\n",
       " 'r': 39,\n",
       " 'u': 40,\n",
       " 'v': 41,\n",
       " 'w': 42}"
      ]
     },
     "execution_count": 13,
     "metadata": {},
     "output_type": "execute_result"
    }
   ],
   "source": [
    "tokenizer.word_index"
   ]
  },
  {
   "cell_type": "code",
   "execution_count": 132,
   "metadata": {},
   "outputs": [
    {
     "data": {
      "text/plain": [
       "__main__.EquationSolver"
      ]
     },
     "execution_count": 132,
     "metadata": {},
     "output_type": "execute_result"
    }
   ],
   "source": [
    "type(model)"
   ]
  },
  {
   "cell_type": "markdown",
   "metadata": {},
   "source": [
    "Let's divide the dataset into train (95%), validation (2.5%) and test (2.5%) "
   ]
  },
  {
   "cell_type": "code",
   "execution_count": 14,
   "metadata": {},
   "outputs": [],
   "source": [
    "train_size = int(dataset_size * 0.95)"
   ]
  },
  {
   "cell_type": "code",
   "execution_count": 15,
   "metadata": {},
   "outputs": [],
   "source": [
    "valid_size = int(dataset_size *0.025)"
   ]
  },
  {
   "cell_type": "code",
   "execution_count": 16,
   "metadata": {},
   "outputs": [],
   "source": [
    "test_size = int(dataset_size *0.025)"
   ]
  },
  {
   "cell_type": "code",
   "execution_count": 69,
   "metadata": {},
   "outputs": [
    {
     "name": "stdout",
     "output_type": "stream",
     "text": [
      "train size - 950000 \n",
      "validation size - 25000 \n",
      "test size - 25000\n"
     ]
    }
   ],
   "source": [
    "print('train size - {} \\nvalidation size - {} \\ntest size - {}'.format(train_size, valid_size, test_size))"
   ]
  },
  {
   "cell_type": "code",
   "execution_count": 70,
   "metadata": {},
   "outputs": [
    {
     "data": {
      "text/plain": [
       "1000000"
      ]
     },
     "execution_count": 70,
     "metadata": {},
     "output_type": "execute_result"
    }
   ],
   "source": [
    "train_size + valid_size + test_size"
   ]
  },
  {
   "cell_type": "markdown",
   "metadata": {},
   "source": [
    "Prepare dataset by considering \"lhs\" as source sequence and \"rhs\" as target sequence. A similar strategy is followed for all the three sets i.e. train, test and valid"
   ]
  },
  {
   "cell_type": "code",
   "execution_count": 19,
   "metadata": {},
   "outputs": [],
   "source": [
    "train_lhs, train_rhs = lhses[0:train_size], rhses[0:train_size]\n",
    "valid_lhs, valid_rhs = lhses[train_size:train_size + valid_size], rhses[train_size:train_size + valid_size]\n",
    "test_lhs, test_rhs = lhses[train_size + valid_size:], rhses[train_size + valid_size:]"
   ]
  },
  {
   "cell_type": "code",
   "execution_count": 20,
   "metadata": {},
   "outputs": [
    {
     "data": {
      "text/plain": [
       "'n*(n-13)'"
      ]
     },
     "execution_count": 20,
     "metadata": {},
     "output_type": "execute_result"
    }
   ],
   "source": [
    "train_lhs[0]"
   ]
  },
  {
   "cell_type": "code",
   "execution_count": 21,
   "metadata": {},
   "outputs": [
    {
     "data": {
      "text/plain": [
       "'n**2-13*n'"
      ]
     },
     "execution_count": 21,
     "metadata": {},
     "output_type": "execute_result"
    }
   ],
   "source": [
    "train_rhs[0]"
   ]
  },
  {
   "cell_type": "markdown",
   "metadata": {},
   "source": [
    "Convert the sequence to list of tokens using Tokenizer"
   ]
  },
  {
   "cell_type": "code",
   "execution_count": 22,
   "metadata": {},
   "outputs": [],
   "source": [
    "encoded_train_lhs = tokenizer.texts_to_sequences(train_lhs)\n",
    "encoded_valid_lhs = tokenizer.texts_to_sequences(valid_lhs)\n",
    "encoded_test_lhs = tokenizer.texts_to_sequences(test_lhs)"
   ]
  },
  {
   "cell_type": "code",
   "execution_count": 23,
   "metadata": {},
   "outputs": [],
   "source": [
    "encoded_train_rhs = tokenizer.texts_to_sequences(train_rhs)\n",
    "encoded_valid_rhs = tokenizer.texts_to_sequences(valid_rhs)\n",
    "encoded_test_rhs = tokenizer.texts_to_sequences(test_rhs)"
   ]
  },
  {
   "cell_type": "code",
   "execution_count": 24,
   "metadata": {},
   "outputs": [
    {
     "data": {
      "text/plain": [
       "[2, 9, 1, 16, 1, 4, 6, 13, 2, 12, 1, 16, 5]"
      ]
     },
     "execution_count": 24,
     "metadata": {},
     "output_type": "execute_result"
    }
   ],
   "source": [
    "encoded_test_lhs[0]"
   ]
  },
  {
   "cell_type": "code",
   "execution_count": 25,
   "metadata": {},
   "outputs": [
    {
     "data": {
      "text/plain": [
       "[3, 15, 1, 16, 1, 1, 3, 2, 14, 3, 1, 16]"
      ]
     },
     "execution_count": 25,
     "metadata": {},
     "output_type": "execute_result"
    }
   ],
   "source": [
    "encoded_test_rhs[0]"
   ]
  },
  {
   "cell_type": "markdown",
   "metadata": {},
   "source": [
    "Let's convert the list of tokens to ragged tensors to make it easy to store and process data with non-uniform shapes\n"
   ]
  },
  {
   "cell_type": "code",
   "execution_count": 26,
   "metadata": {},
   "outputs": [],
   "source": [
    "def ragged_tensor(mat):\n",
    "    return tf.ragged.constant(np.array(mat)).to_tensor()"
   ]
  },
  {
   "cell_type": "code",
   "execution_count": 27,
   "metadata": {},
   "outputs": [],
   "source": [
    "X_train = ragged_tensor(encoded_train_lhs)\n",
    "Y_train = ragged_tensor(encoded_train_rhs)\n",
    "\n",
    "X_valid = ragged_tensor(encoded_valid_lhs)\n",
    "Y_valid = ragged_tensor(encoded_valid_rhs)\n",
    "\n",
    "X_test = ragged_tensor(encoded_test_lhs)\n",
    "Y_test = ragged_tensor(encoded_test_rhs)"
   ]
  },
  {
   "cell_type": "code",
   "execution_count": 28,
   "metadata": {},
   "outputs": [
    {
     "data": {
      "text/plain": [
       "<tf.Tensor: shape=(950000, 29), dtype=int32, numpy=\n",
       "array([[17,  1,  4, ...,  0,  0,  0],\n",
       "       [ 4,  3,  6, ...,  0,  0,  0],\n",
       "       [ 4,  2, 12, ...,  0,  0,  0],\n",
       "       ...,\n",
       "       [ 4,  3,  1, ...,  0,  0,  0],\n",
       "       [ 4, 10,  1, ...,  0,  0,  0],\n",
       "       [ 4,  3,  6, ...,  0,  0,  0]], dtype=int32)>"
      ]
     },
     "execution_count": 28,
     "metadata": {},
     "output_type": "execute_result"
    }
   ],
   "source": [
    "X_train"
   ]
  },
  {
   "cell_type": "code",
   "execution_count": 29,
   "metadata": {},
   "outputs": [
    {
     "data": {
      "text/plain": [
       "<tf.Tensor: shape=(25000, 29), dtype=int32, numpy=\n",
       "array([[12,  1, 25, ...,  0,  0,  0],\n",
       "       [ 4,  3, 12, ...,  0,  0,  0],\n",
       "       [ 4,  6, 14, ...,  0,  0,  0],\n",
       "       ...,\n",
       "       [11,  1, 22, ...,  0,  0,  0],\n",
       "       [ 4,  2,  3, ...,  0,  0,  0],\n",
       "       [ 4,  2, 10, ...,  0,  0,  0]], dtype=int32)>"
      ]
     },
     "execution_count": 29,
     "metadata": {},
     "output_type": "execute_result"
    }
   ],
   "source": [
    "X_valid"
   ]
  },
  {
   "cell_type": "code",
   "execution_count": 30,
   "metadata": {},
   "outputs": [
    {
     "data": {
      "text/plain": [
       "<tf.Tensor: shape=(950000, 28), dtype=int32, numpy=\n",
       "array([[17,  1,  1, ...,  0,  0,  0],\n",
       "       [ 3,  1, 20, ...,  0,  0,  0],\n",
       "       [ 2, 12,  1, ...,  0,  0,  0],\n",
       "       ...,\n",
       "       [ 6, 15,  1, ...,  0,  0,  0],\n",
       "       [ 6,  3,  1, ...,  0,  0,  0],\n",
       "       [ 2,  6, 13, ...,  0,  0,  0]], dtype=int32)>"
      ]
     },
     "execution_count": 30,
     "metadata": {},
     "output_type": "execute_result"
    }
   ],
   "source": [
    "Y_train"
   ]
  },
  {
   "cell_type": "code",
   "execution_count": 31,
   "metadata": {},
   "outputs": [
    {
     "name": "stdout",
     "output_type": "stream",
     "text": [
      "shape of X train (950000, 29)\n",
      "shape of Y train (950000, 28)\n",
      "shape of X valid (25000, 29)\n",
      "shape of Y valid (25000, 28)\n",
      "shape of X test (25000, 29)\n",
      "shape of Y test (25000, 28)\n"
     ]
    }
   ],
   "source": [
    "print(\"shape of X train {}\".format(X_train.shape))\n",
    "print(\"shape of Y train {}\".format(Y_train.shape))\n",
    "print(\"shape of X valid {}\".format(X_valid.shape))\n",
    "print(\"shape of Y valid {}\".format(Y_valid.shape))\n",
    "print(\"shape of X test {}\".format(X_test.shape))\n",
    "print(\"shape of Y test {}\".format(Y_test.shape))"
   ]
  },
  {
   "cell_type": "code",
   "execution_count": 32,
   "metadata": {},
   "outputs": [],
   "source": [
    "vocab_length = max(tokenizer.word_index.values())"
   ]
  },
  {
   "cell_type": "code",
   "execution_count": 33,
   "metadata": {},
   "outputs": [
    {
     "data": {
      "text/plain": [
       "42"
      ]
     },
     "execution_count": 33,
     "metadata": {},
     "output_type": "execute_result"
    }
   ],
   "source": [
    "vocab_length"
   ]
  },
  {
   "cell_type": "markdown",
   "metadata": {},
   "source": [
    "numbers from 1 to 42 are attached to one of the character, we can use number 43 indicate start of the sequence"
   ]
  },
  {
   "cell_type": "code",
   "execution_count": 34,
   "metadata": {},
   "outputs": [],
   "source": [
    "sos_id = vocab_length + 1"
   ]
  },
  {
   "cell_type": "code",
   "execution_count": 35,
   "metadata": {},
   "outputs": [],
   "source": [
    "total_vocab_length = vocab_length + 1"
   ]
  },
  {
   "cell_type": "code",
   "execution_count": 36,
   "metadata": {},
   "outputs": [
    {
     "data": {
      "text/plain": [
       "43"
      ]
     },
     "execution_count": 36,
     "metadata": {},
     "output_type": "execute_result"
    }
   ],
   "source": [
    "total_vocab_length"
   ]
  },
  {
   "cell_type": "markdown",
   "metadata": {},
   "source": [
    "The plan is to build a seq2seq model by processing the input sequence (LHS) and predicting the output sequence (LHS). Instead of predicting the output sequence from the final hidden state of the encoder, we feed the output sequence shifted by one to the right. \n",
    "Using this strategy, at each time step decoder gets two inputs 1) encoder output vector and 2) the previous target charatcer\n",
    "\n",
    "So model would require two inputs, input sequence (X_train) and new input (Shifted Output Vector). Let's build the output vector\n",
    "\n",
    "Once we move the output sequence to right, we need to fill the left most empty position with some identifier, and we can use the sos_id (30) for indicating the start of sequence"
   ]
  },
  {
   "cell_type": "code",
   "execution_count": 37,
   "metadata": {},
   "outputs": [],
   "source": [
    "def shift_sequence(Y, sos_id = sos_id):\n",
    "    \"\"\" A helper functions to right shift a Tensor and fill the left most place with sos_id\n",
    "\n",
    "    :param Tensor\n",
    "    :return Tensor with sos_id concatenated to the left\n",
    "    \"\"\"\n",
    "    sos_tokens = tf.fill(dims=(len(Y), 1), value=sos_id)\n",
    "    return tf.concat([sos_tokens, Y[:, :-1]], axis=1)"
   ]
  },
  {
   "cell_type": "code",
   "execution_count": 38,
   "metadata": {},
   "outputs": [],
   "source": [
    "X_train_decoder = shift_sequence(Y_train)\n",
    "X_valid_decoder = shift_sequence(Y_valid)"
   ]
  },
  {
   "cell_type": "code",
   "execution_count": 39,
   "metadata": {},
   "outputs": [
    {
     "data": {
      "text/plain": [
       "<tf.Tensor: shape=(950000, 28), dtype=int32, numpy=\n",
       "array([[43, 17,  1, ...,  0,  0,  0],\n",
       "       [43,  3,  1, ...,  0,  0,  0],\n",
       "       [43,  2, 12, ...,  0,  0,  0],\n",
       "       ...,\n",
       "       [43,  6, 15, ...,  0,  0,  0],\n",
       "       [43,  6,  3, ...,  0,  0,  0],\n",
       "       [43,  2,  6, ...,  0,  0,  0]], dtype=int32)>"
      ]
     },
     "execution_count": 39,
     "metadata": {},
     "output_type": "execute_result"
    }
   ],
   "source": [
    "X_train_decoder"
   ]
  },
  {
   "cell_type": "code",
   "execution_count": 71,
   "metadata": {},
   "outputs": [
    {
     "data": {
      "text/plain": [
       "<tf.Tensor: shape=(25000, 28), dtype=int32, numpy=\n",
       "array([[43,  2, 12, ...,  0,  0,  0],\n",
       "       [43,  2,  3, ...,  0,  0,  0],\n",
       "       [43,  6, 11, ...,  0,  0,  0],\n",
       "       ...,\n",
       "       [43,  6,  3, ...,  0,  0,  0],\n",
       "       [43,  2,  6, ...,  0,  0,  0],\n",
       "       [43,  2, 10, ...,  0,  0,  0]], dtype=int32)>"
      ]
     },
     "execution_count": 71,
     "metadata": {},
     "output_type": "execute_result"
    }
   ],
   "source": [
    "X_valid_decoder"
   ]
  },
  {
   "cell_type": "markdown",
   "metadata": {},
   "source": [
    "X_train_decoder is Y_train with a value 43 (sos_id) prepended to each sequence, which increased the shape of the each sequence from 27 to 28\n"
   ]
  },
  {
   "cell_type": "code",
   "execution_count": 72,
   "metadata": {},
   "outputs": [],
   "source": [
    "max_output_length = Y_train.shape[1]"
   ]
  },
  {
   "cell_type": "code",
   "execution_count": 73,
   "metadata": {},
   "outputs": [
    {
     "data": {
      "text/plain": [
       "28"
      ]
     },
     "execution_count": 73,
     "metadata": {},
     "output_type": "execute_result"
    }
   ],
   "source": [
    "max_output_length"
   ]
  },
  {
   "cell_type": "markdown",
   "metadata": {},
   "source": [
    "At each step, the decoder outputs a score for each character in the output vocabulary, and then the softmax layer turns these scores into probabilities\n",
    "\n",
    "attention mechanisms. As their name suggests, these are neural network components that learn to select the part of the inputs that the rest of the model should focus on at each time step\n",
    "\n"
   ]
  },
  {
   "cell_type": "code",
   "execution_count": 74,
   "metadata": {},
   "outputs": [],
   "source": [
    "BATCH_SIZE = 32"
   ]
  },
  {
   "cell_type": "code",
   "execution_count": 43,
   "metadata": {},
   "outputs": [],
   "source": [
    "class EquationSolver(keras.models.Model):\n",
    "    def __init__(self, units=128, encoder_embedding_size=32, decoder_embedding_size=32, input_dim=42, sos_id=43, **kwargs):\n",
    "        super().__init__(**kwargs)\n",
    "\n",
    "        # embedding for encoder\n",
    "\n",
    "        self.sos_id = sos_id\n",
    "        self.input_dim = input_dim\n",
    "        \"\"\"\n",
    "        The first layer is an Embedding layer, which will convert character IDs into embeddings.\n",
    "        The embedding matrix needs to have one row per char ID and one column per embedding dimension\n",
    "        Here we are using embedding dimension of 32\n",
    "        Whereas the inputs of the model will be 2D tensors of shape [batch size, time steps] i.e. [None, 31], \n",
    "        the output of the Embedding layer will be a 3D tensor of shape [batch size, time steps, embedding size] ie. [None, 31, 32]\n",
    "        \"\"\"\n",
    "        self.encoder_embedding = keras.layers.Embedding(input_dim= input_dim + 1, output_dim=encoder_embedding_size)\n",
    "\n",
    "        \"\"\"\n",
    "        encoder is LSTM with 128 units\n",
    "        return_state=True when creating the LSTM layer so that we can get its final hidden state and \n",
    "        pass it to the decoder. Note: LSTM cell has two hidden states (short term and long term)\n",
    "        \"\"\"\n",
    "        self.encoder = keras.layers.LSTM(units, return_sequences=True, return_state=True)\n",
    "\n",
    "        \"\"\"\n",
    "        similar to encoder embedding input [batch_size, time steps] o/p [batch_size, time steps, embedding dimension]\n",
    "        \"\"\"\n",
    "        self.decoder_embedding = keras.layers.Embedding(input_dim=input_dim + 2, output_dim=decoder_embedding_size)\n",
    "\n",
    "        \"\"\"\n",
    "        simply wrap the decoder cell in an AttentionWrapper,\n",
    "        we provide the desired attention mechanism, we are using Luong attention for this task\n",
    "        \"\"\"\n",
    "        decoder_cell = keras.layers.LSTMCell(units)\n",
    "        self.luong_attention = tfa.seq2seq.LuongAttention(units)\n",
    "        self.decoder_cell = tfa.seq2seq.AttentionWrapper(cell=decoder_cell, attention_mechanism=self.luong_attention)\n",
    "\n",
    "        # output is Dense Layer with input_dim + 1 units\n",
    "        output_layer = keras.layers.Dense(input_dim + 1)\n",
    "        # decoder while training\n",
    "        self.decoder_training_sampler = tfa.seq2seq.sampler.TrainingSampler()\n",
    "        self.decoder = tfa.seq2seq.BasicDecoder(cell=self.decoder_cell, sampler=self.decoder_training_sampler,\n",
    "                                                output_layer=output_layer,\n",
    "                                                batch_size= BATCH_SIZE)\n",
    "\n",
    "        \"\"\"\n",
    "        decoder while inference, \n",
    "        almost similar to training decoder except we use GreedyEmbeddingSampler and need to provide maximum_iterations.\n",
    "        GreedyEmbeddingSampler: \n",
    "            computes the argmax of the decoder's outputs and the winner is passed through the decoder_embedding\n",
    "            Then it is feed to decoder at the next time step\n",
    "        maximum_iterations: for this task it is set to maximum length of the output sequence in the dataset (29)\n",
    "        \"\"\"\n",
    "        self.decoder_inference_sampler = tfa.seq2seq.sampler.GreedyEmbeddingSampler(embedding_fn=self.decoder_embedding)\n",
    "        self.inference_decoder = tfa.seq2seq.BasicDecoder(cell=self.decoder_cell,\n",
    "                                                          sampler=self.decoder_inference_sampler,\n",
    "                                                          output_layer=output_layer, maximum_iterations=input_dim)\n",
    "\n",
    "    def call(self, inputs, training=None, **kwargs):\n",
    "        encoder_input, shifted_decoder_inputs = inputs\n",
    "        encoder_embeddings = self.encoder_embedding(encoder_input)\n",
    "        # Note: LSTM cell has two hidden states (short term and long term)\n",
    "        encoder_outputs, encoder_state_h, encoder_state_c = self.encoder(\n",
    "            encoder_embeddings,\n",
    "            training=training)\n",
    "\n",
    "        encoder_state = [encoder_state_h, encoder_state_c]\n",
    "\n",
    "        self.luong_attention(encoder_outputs,\n",
    "                             setup_memory=True)\n",
    "\n",
    "        decoder_embeddings = self.decoder_embedding(shifted_decoder_inputs)\n",
    "\n",
    "        decoder_initial_state = self.decoder_cell.get_initial_state(\n",
    "            decoder_embeddings, batch_size = self.input_dim)\n",
    "        decoder_initial_state = decoder_initial_state.clone(\n",
    "            cell_state=encoder_state)\n",
    "\n",
    "        if training:\n",
    "            decoder_outputs, _, _ = self.decoder(\n",
    "                decoder_embeddings,\n",
    "                initial_state=decoder_initial_state,\n",
    "                training=training\n",
    "                )\n",
    "        else:\n",
    "            start_tokens = tf.zeros_like(encoder_input[:, 0]) + self.sos_id\n",
    "            decoder_outputs, _, _ = self.inference_decoder(\n",
    "                decoder_embeddings,\n",
    "                initial_state=decoder_initial_state,\n",
    "                start_tokens=start_tokens,\n",
    "                end_token=0)\n",
    "\n",
    "        \"\"\"\n",
    "        The decoder outputs (scores) are passed through a softmax\n",
    "        \"\"\"\n",
    "        return tf.nn.softmax(decoder_outputs.rnn_output)"
   ]
  },
  {
   "cell_type": "code",
   "execution_count": 122,
   "metadata": {},
   "outputs": [
    {
     "name": "stdout",
     "output_type": "stream",
     "text": [
      "Model: \"equation_solver\"\n",
      "_________________________________________________________________\n",
      "Layer (type)                 Output Shape              Param #   \n",
      "=================================================================\n",
      "embedding (Embedding)        multiple                  1376      \n",
      "_________________________________________________________________\n",
      "lstm (LSTM)                  multiple                  82432     \n",
      "_________________________________________________________________\n",
      "embedding_1 (Embedding)      multiple                  1408      \n",
      "_________________________________________________________________\n",
      "LuongAttention (LuongAttenti multiple                  16384     \n",
      "_________________________________________________________________\n",
      "attention_wrapper (Attention multiple                  164352    \n",
      "_________________________________________________________________\n",
      "basic_decoder (BasicDecoder) multiple                  169899    \n",
      "_________________________________________________________________\n",
      "basic_decoder_1 (BasicDecode multiple                  169899    \n",
      "=================================================================\n",
      "Total params: 255,115\n",
      "Trainable params: 255,115\n",
      "Non-trainable params: 0\n",
      "_________________________________________________________________\n"
     ]
    }
   ],
   "source": [
    "model.summary()"
   ]
  },
  {
   "cell_type": "markdown",
   "metadata": {},
   "source": [
    "\n",
    "we compile this model using the \"sparse_categorical_crossentropy\" loss and Nadam optimizer. Changing optimizer from Adam to Nadam gave a performace boost"
   ]
  },
  {
   "cell_type": "code",
   "execution_count": 44,
   "metadata": {},
   "outputs": [],
   "source": [
    "model = EquationSolver()\n",
    "optimizer = keras.optimizers.Nadam()\n",
    "model.compile(loss=\"sparse_categorical_crossentropy\", optimizer=optimizer,\n",
    "              metrics=[\"accuracy\"])"
   ]
  },
  {
   "cell_type": "code",
   "execution_count": 45,
   "metadata": {},
   "outputs": [
    {
     "name": "stdout",
     "output_type": "stream",
     "text": [
      "Epoch 1/15\n",
      "29688/29688 [==============================] - 1146s 39ms/step - loss: 0.2803 - accuracy: 0.8973\n",
      "Epoch 2/15\n",
      "29688/29688 [==============================] - 1255s 42ms/step - loss: 0.0823 - accuracy: 0.9679\n",
      "Epoch 3/15\n",
      "29688/29688 [==============================] - 1277s 43ms/step - loss: 0.0556 - accuracy: 0.9787\n",
      "Epoch 4/15\n",
      "29688/29688 [==============================] - 1288s 43ms/step - loss: 0.0435 - accuracy: 0.9835\n",
      "Epoch 5/15\n",
      "29688/29688 [==============================] - 1284s 43ms/step - loss: 0.0359 - accuracy: 0.9863\n",
      "Epoch 6/15\n",
      "29688/29688 [==============================] - 1329s 45ms/step - loss: 0.0334 - accuracy: 0.9874\n",
      "Epoch 7/15\n",
      "29688/29688 [==============================] - 1360s 46ms/step - loss: 0.0284 - accuracy: 0.9892\n",
      "Epoch 8/15\n",
      "29688/29688 [==============================] - 1300s 44ms/step - loss: 0.0259 - accuracy: 0.9903\n",
      "Epoch 9/15\n",
      "29688/29688 [==============================] - 1299s 44ms/step - loss: 0.0237 - accuracy: 0.9911\n",
      "Epoch 10/15\n",
      "29688/29688 [==============================] - 1338s 45ms/step - loss: 0.0218 - accuracy: 0.9918\n",
      "Epoch 11/15\n",
      "29688/29688 [==============================] - 2244s 76ms/step - loss: 0.0205 - accuracy: 0.9923\n",
      "Epoch 12/15\n",
      "29688/29688 [==============================] - 1305s 44ms/step - loss: 0.0195 - accuracy: 0.9927\n",
      "Epoch 13/15\n",
      "29688/29688 [==============================] - 1395s 47ms/step - loss: 0.0188 - accuracy: 0.9931\n",
      "Epoch 14/15\n",
      "29688/29688 [==============================] - 1412s 48ms/step - loss: 0.0178 - accuracy: 0.9934\n",
      "Epoch 15/15\n",
      "29688/29688 [==============================] - 1352s 46ms/step - loss: 0.0168 - accuracy: 0.9938\n"
     ]
    }
   ],
   "source": [
    "history = model.fit([X_train, X_train_decoder], Y_train, epochs=15)"
   ]
  },
  {
   "cell_type": "code",
   "execution_count": null,
   "metadata": {},
   "outputs": [],
   "source": [
    "# save_weights to tuned weights to use later during inferencing"
   ]
  },
  {
   "cell_type": "code",
   "execution_count": 127,
   "metadata": {},
   "outputs": [
    {
     "data": {
      "image/png": "[encoded data removed]",
      "text/plain": [
       "<Figure size 432x288 with 1 Axes>"
      ]
     },
     "metadata": {
      "needs_background": "light"
     },
     "output_type": "display_data"
    }
   ],
   "source": [
    "plt.plot(history.history['accuracy'])\n",
    "plt.plot(history.history['loss'])\n",
    "plt.title('model loss & history')\n",
    "plt.xlabel('epoch')\n",
    "plt.legend(['accuracy', 'loss'], loc='upper left')\n",
    "plt.show()"
   ]
  },
  {
   "cell_type": "code",
   "execution_count": 46,
   "metadata": {},
   "outputs": [],
   "source": [
    "model.save_weights(\n",
    "    'saved_model/equ_model_2', overwrite=True, save_format=None, options=None)"
   ]
  },
  {
   "cell_type": "code",
   "execution_count": null,
   "metadata": {},
   "outputs": [],
   "source": [
    "# model.load_weights('saved_model/equ_model_2')"
   ]
  },
  {
   "cell_type": "code",
   "execution_count": 47,
   "metadata": {},
   "outputs": [],
   "source": [
    "max_input_length = X_train.shape[1]"
   ]
  },
  {
   "cell_type": "code",
   "execution_count": 98,
   "metadata": {},
   "outputs": [],
   "source": [
    "def prepare_new_sequences(factors, max_input_length = 29, max_output_length = 28):\n",
    "    seqs = tokenizer.texts_to_sequences(factors)\n",
    "    X_new = ragged_tensor(seqs)\n",
    "\n",
    "    if X_new.shape[1] < max_input_length:\n",
    "        X_new = tf.pad(X_new, [[0, 0], [0, max_input_length - X_new.shape[1]]])\n",
    "    X_decoder = tf.zeros(shape=(len(X_new), max_output_length), dtype=tf.int32)\n",
    "    return X_new, X_decoder"
   ]
  },
  {
   "cell_type": "code",
   "execution_count": 99,
   "metadata": {},
   "outputs": [],
   "source": [
    "def predict_seqs(factors):\n",
    "    X_new, X_decoder = prepare_new_sequences(factors)\n",
    "    Y_probas = model.predict([X_new, X_decoder])\n",
    "\n",
    "    Y_pred = tf.argmax(Y_probas, axis=-1)\n",
    "    return Y_pred"
   ]
  },
  {
   "cell_type": "code",
   "execution_count": 100,
   "metadata": {},
   "outputs": [],
   "source": [
    "def chunks(lst, n):\n",
    "    for i in range(0, len(lst), n):\n",
    "        yield lst[i:i+n]"
   ]
  },
  {
   "cell_type": "code",
   "execution_count": null,
   "metadata": {},
   "outputs": [],
   "source": []
  },
  {
   "cell_type": "code",
   "execution_count": 94,
   "metadata": {},
   "outputs": [],
   "source": [
    "test_set = [test_lhs, test_rhs]"
   ]
  },
  {
   "cell_type": "code",
   "execution_count": 68,
   "metadata": {},
   "outputs": [],
   "source": [
    "with open('test.txt', 'w') as f:\n",
    "    for l, r in zip(test_lhs, test_rhs):\n",
    "        f.write(\"%s=%s\\n\" % (l, r))"
   ]
  },
  {
   "cell_type": "code",
   "execution_count": 116,
   "metadata": {},
   "outputs": [],
   "source": [
    "results = []\n",
    "for e in chunks(test_set[0], 32):\n",
    "    ids = predict_seqs(e)\n",
    "    results.append(tokenizer.sequences_to_texts(ids.numpy().tolist()))"
   ]
  },
  {
   "cell_type": "code",
   "execution_count": 117,
   "metadata": {},
   "outputs": [],
   "source": [
    "def process_result(r):\n",
    "    return r.replace(' ', '')"
   ]
  },
  {
   "cell_type": "code",
   "execution_count": 118,
   "metadata": {},
   "outputs": [],
   "source": [
    "def score(true_expansion: str, pred_expansion: str) -> int:\n",
    "    \"\"\" the scoring function - this is how the model will be evaluated\n",
    "\n",
    "    :param true_expansion: group truth string\n",
    "    :param pred_expansion: predicted string\n",
    "    :return:\n",
    "    \"\"\"\n",
    "    return int(true_expansion == pred_expansion)"
   ]
  },
  {
   "cell_type": "code",
   "execution_count": 119,
   "metadata": {},
   "outputs": [],
   "source": [
    "import itertools\n",
    "results = list(itertools.chain(*results))\n",
    "results = list(map(process_result, results))"
   ]
  },
  {
   "cell_type": "code",
   "execution_count": 120,
   "metadata": {},
   "outputs": [],
   "source": [
    "expected = test_set[1]\n",
    "count = len(expected)\n",
    "correct_count = 0\n",
    "\n",
    "for a, b in zip(results, expected):\n",
    "    correct_count += score(a, b)"
   ]
  },
  {
   "cell_type": "code",
   "execution_count": 121,
   "metadata": {},
   "outputs": [
    {
     "data": {
      "text/plain": [
       "'total score on test set 0.8388'"
      ]
     },
     "execution_count": 121,
     "metadata": {},
     "output_type": "execute_result"
    }
   ],
   "source": [
    "\"total score on test set {}\".format(correct_count/count)"
   ]
  },
  {
   "cell_type": "markdown",
   "metadata": {},
   "source": [
    "references:\n",
    "\n",
    "https://www.tensorflow.org/addons/api_docs/python/tfa/seq2seq/BasicDecoder\n",
    "\n",
    "https://www.tensorflow.org/addons/tutorials/networks_seq2seq_nmt\n",
    "\n",
    "https://www.tensorflow.org/addons/api_docs/python/tfa/seq2seq/LuongAttention"
   ]
  }
 ],
 "metadata": {
  "kernelspec": {
   "display_name": "Python 3",
   "language": "python",
   "name": "python3"
  },
  "language_info": {
   "codemirror_mode": {
    "name": "ipython",
    "version": 3
   },
   "file_extension": ".py",
   "mimetype": "text/x-python",
   "name": "python",
   "nbconvert_exporter": "python",
   "pygments_lexer": "ipython3",
   "version": "3.8.1"
  }
 },
 "nbformat": 4,
 "nbformat_minor": 4
}
